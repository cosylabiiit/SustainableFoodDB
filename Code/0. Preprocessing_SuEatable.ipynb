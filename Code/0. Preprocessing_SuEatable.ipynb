{
  "cells": [
    {
      "cell_type": "code",
      "execution_count": 1,
      "metadata": {
        "id": "yuCQ8E8Js2k7"
      },
      "outputs": [],
      "source": [
        "#import basic python libraries\n",
        "import pandas as pd\n",
        "import numpy as np\n",
        "from matplotlib import pyplot as plt\n",
        "import statistics\n",
        "from scipy.stats import sem"
      ]
    },
    {
      "cell_type": "code",
      "execution_count": 2,
      "metadata": {
        "id": "JV3q9fPYtqI_"
      },
      "outputs": [],
      "source": [
        "#load the SuEatableLife_Food_Fooprint_database\n",
        "input_file = pd.read_csv('D:/IIITD/Mansi_Thesis_Research/Foodprint/Updated_Mansi/Data/Sueatable_preprocessed_data_with_duplicates.csv', encoding='latin1')"
      ]
    },
    {
      "cell_type": "code",
      "execution_count": 3,
      "metadata": {
        "colab": {
          "base_uri": "https://localhost:8080/",
          "height": 1000
        },
        "id": "yIntOLPRt1_S",
        "outputId": "2e3467c3-90e8-4d57-b6ef-f1966c93c358"
      },
      "outputs": [
        {
          "data": {
            "text/html": [
              "<div>\n",
              "<style scoped>\n",
              "    .dataframe tbody tr th:only-of-type {\n",
              "        vertical-align: middle;\n",
              "    }\n",
              "\n",
              "    .dataframe tbody tr th {\n",
              "        vertical-align: top;\n",
              "    }\n",
              "\n",
              "    .dataframe thead th {\n",
              "        text-align: right;\n",
              "    }\n",
              "</style>\n",
              "<table border=\"1\" class=\"dataframe\">\n",
              "  <thead>\n",
              "    <tr style=\"text-align: right;\">\n",
              "      <th></th>\n",
              "      <th>FOOD COMMODITY GROUP</th>\n",
              "      <th>FOOD COMMODITY TYPOLOGY</th>\n",
              "      <th>FOOD COMMODITY ITEM</th>\n",
              "      <th>Carbon footprint  (kg CO2 eq/kg or litre of food commodity)</th>\n",
              "      <th>Type of source</th>\n",
              "      <th>Full Reference</th>\n",
              "      <th>Publication year</th>\n",
              "      <th>System Boundary  Distribution</th>\n",
              "      <th>Country</th>\n",
              "      <th>Region</th>\n",
              "      <th>Notes</th>\n",
              "      <th>Reported in other data summaries</th>\n",
              "      <th>Modification of original values</th>\n",
              "    </tr>\n",
              "  </thead>\n",
              "  <tbody>\n",
              "    <tr>\n",
              "      <th>0</th>\n",
              "      <td>AGRICULTURAL PROCESSED</td>\n",
              "      <td>BEER</td>\n",
              "      <td>BEER GLASS BOTTLE</td>\n",
              "      <td>0.420</td>\n",
              "      <td>EPD</td>\n",
              "      <td>BIER, 2012. Research on the carbon footprint o...</td>\n",
              "      <td>2012</td>\n",
              "      <td>RETAILER</td>\n",
              "      <td>Europe</td>\n",
              "      <td>Europe</td>\n",
              "      <td>33.cc.glass bottle</td>\n",
              "      <td>this study</td>\n",
              "      <td>-</td>\n",
              "    </tr>\n",
              "    <tr>\n",
              "      <th>1</th>\n",
              "      <td>AGRICULTURAL PROCESSED</td>\n",
              "      <td>BEER</td>\n",
              "      <td>BEER GLASS BOTTLE</td>\n",
              "      <td>0.568</td>\n",
              "      <td>JOURNAL</td>\n",
              "      <td>Cimini, A., &amp; Moresi, M. (2016). Carbon footpr...</td>\n",
              "      <td>2016</td>\n",
              "      <td>RETAILER</td>\n",
              "      <td>Italy</td>\n",
              "      <td>Mediterranean area</td>\n",
              "      <td>66.cc. glass bottle</td>\n",
              "      <td>this study</td>\n",
              "      <td>-</td>\n",
              "    </tr>\n",
              "    <tr>\n",
              "      <th>2</th>\n",
              "      <td>AGRICULTURAL PROCESSED</td>\n",
              "      <td>BEER</td>\n",
              "      <td>BEER GLASS BOTTLE</td>\n",
              "      <td>0.666</td>\n",
              "      <td>JOURNAL</td>\n",
              "      <td>Cimini, A., &amp; Moresi, M. (2016). Carbon footpr...</td>\n",
              "      <td>2016</td>\n",
              "      <td>RETAILER</td>\n",
              "      <td>Italy</td>\n",
              "      <td>Mediterranean area</td>\n",
              "      <td>33.cc.glass bottle</td>\n",
              "      <td>this study</td>\n",
              "      <td>-</td>\n",
              "    </tr>\n",
              "    <tr>\n",
              "      <th>3</th>\n",
              "      <td>AGRICULTURAL PROCESSED</td>\n",
              "      <td>BEER</td>\n",
              "      <td>BEER GLASS BOTTLE</td>\n",
              "      <td>0.842</td>\n",
              "      <td>JOURNAL</td>\n",
              "      <td>Amienyo, D., &amp; Azapagic, A. (2016). Life cycle...</td>\n",
              "      <td>2016</td>\n",
              "      <td>RETAIL</td>\n",
              "      <td>UK</td>\n",
              "      <td>N Europe</td>\n",
              "      <td>33.cc.glass bottle</td>\n",
              "      <td>this study</td>\n",
              "      <td>-</td>\n",
              "    </tr>\n",
              "    <tr>\n",
              "      <th>4</th>\n",
              "      <td>AGRICULTURAL PROCESSED</td>\n",
              "      <td>BEER</td>\n",
              "      <td>BEER GLASS BOTTLE</td>\n",
              "      <td>0.961</td>\n",
              "      <td>EPD</td>\n",
              "      <td>Carlsberg. Environmental Product Declaration o...</td>\n",
              "      <td>2018</td>\n",
              "      <td>RETAILER</td>\n",
              "      <td>Italy</td>\n",
              "      <td>Mediterranean area</td>\n",
              "      <td>33.cc.glass bottle</td>\n",
              "      <td>this study</td>\n",
              "      <td>-</td>\n",
              "    </tr>\n",
              "    <tr>\n",
              "      <th>...</th>\n",
              "      <td>...</td>\n",
              "      <td>...</td>\n",
              "      <td>...</td>\n",
              "      <td>...</td>\n",
              "      <td>...</td>\n",
              "      <td>...</td>\n",
              "      <td>...</td>\n",
              "      <td>...</td>\n",
              "      <td>...</td>\n",
              "      <td>...</td>\n",
              "      <td>...</td>\n",
              "      <td>...</td>\n",
              "      <td>...</td>\n",
              "    </tr>\n",
              "    <tr>\n",
              "      <th>3375</th>\n",
              "      <td>FISHING</td>\n",
              "      <td>SHELLFISH FROZEN</td>\n",
              "      <td>OCTOPUS (F)</td>\n",
              "      <td>7.879</td>\n",
              "      <td>JOURNAL</td>\n",
              "      <td>VÃ zquez-Rowe, I., M.T. Moreira, G. Feijoo. En...</td>\n",
              "      <td>2012</td>\n",
              "      <td>SB spanish market, imported</td>\n",
              "      <td>Chile</td>\n",
              "      <td>S America</td>\n",
              "      <td>wild</td>\n",
              "      <td>BCFN (double pyramid 2016)</td>\n",
              "      <td>P</td>\n",
              "    </tr>\n",
              "    <tr>\n",
              "      <th>3376</th>\n",
              "      <td>FISHING</td>\n",
              "      <td>SHELLFISH FROZEN</td>\n",
              "      <td>PRAWNS/SHRIMP (F)</td>\n",
              "      <td>5.805</td>\n",
              "      <td>LCA DATABASE</td>\n",
              "      <td>LCA Food, viewed on June 2013. &lt;www.LCAfood.dk&gt;</td>\n",
              "      <td>2010</td>\n",
              "      <td>SB is calculated as the mean value of CF betwe...</td>\n",
              "      <td>Denmark</td>\n",
              "      <td>N Europe</td>\n",
              "      <td>wild</td>\n",
              "      <td>BCFN (double pyramid 2016)</td>\n",
              "      <td>P</td>\n",
              "    </tr>\n",
              "    <tr>\n",
              "      <th>3377</th>\n",
              "      <td>FISHING</td>\n",
              "      <td>SHELLFISH FROZEN</td>\n",
              "      <td>PRAWNS/SHRIMP (F)</td>\n",
              "      <td>7.200</td>\n",
              "      <td>JOURNAL</td>\n",
              "      <td>Farmery, A., C. Gardner, B. S. Green, S. Jenni...</td>\n",
              "      <td>2015</td>\n",
              "      <td>RDC</td>\n",
              "      <td>Australia</td>\n",
              "      <td>Oceania</td>\n",
              "      <td>frozen</td>\n",
              "      <td>Clune et al 2017 database</td>\n",
              "      <td>-</td>\n",
              "    </tr>\n",
              "    <tr>\n",
              "      <th>3378</th>\n",
              "      <td>FISHING</td>\n",
              "      <td>SHELLFISH FROZEN</td>\n",
              "      <td>PRAWNS/SHRIMP (F)</td>\n",
              "      <td>22.930</td>\n",
              "      <td>JOURNAL</td>\n",
              "      <td>Ziegler, F., J.L. Eichelsheim, A. Emanuelsson,...</td>\n",
              "      <td>2009</td>\n",
              "      <td>IMPORTED FROM SPAIN, PORT</td>\n",
              "      <td>Senegal</td>\n",
              "      <td>Africa</td>\n",
              "      <td>wild</td>\n",
              "      <td>BCFN (double pyramid 2016)</td>\n",
              "      <td>-</td>\n",
              "    </tr>\n",
              "    <tr>\n",
              "      <th>3379</th>\n",
              "      <td>FISHING</td>\n",
              "      <td>SHELLFISH FROZEN</td>\n",
              "      <td>PRAWNS/SHRIMP (F)</td>\n",
              "      <td>35.000</td>\n",
              "      <td>JOURNAL</td>\n",
              "      <td>Ziegler, F., A. Emanuelsson, J. L. Eichelsheim...</td>\n",
              "      <td>2011</td>\n",
              "      <td>RDC</td>\n",
              "      <td>Senegal</td>\n",
              "      <td>Africa</td>\n",
              "      <td>wild</td>\n",
              "      <td>Clune et al 2017 database</td>\n",
              "      <td>-</td>\n",
              "    </tr>\n",
              "  </tbody>\n",
              "</table>\n",
              "<p>3380 rows × 13 columns</p>\n",
              "</div>"
            ],
            "text/plain": [
              "        FOOD COMMODITY GROUP FOOD COMMODITY TYPOLOGY FOOD COMMODITY ITEM  \\\n",
              "0     AGRICULTURAL PROCESSED                    BEER   BEER GLASS BOTTLE   \n",
              "1     AGRICULTURAL PROCESSED                    BEER   BEER GLASS BOTTLE   \n",
              "2     AGRICULTURAL PROCESSED                    BEER   BEER GLASS BOTTLE   \n",
              "3     AGRICULTURAL PROCESSED                    BEER   BEER GLASS BOTTLE   \n",
              "4     AGRICULTURAL PROCESSED                    BEER   BEER GLASS BOTTLE   \n",
              "...                      ...                     ...                 ...   \n",
              "3375                 FISHING        SHELLFISH FROZEN         OCTOPUS (F)   \n",
              "3376                 FISHING        SHELLFISH FROZEN   PRAWNS/SHRIMP (F)   \n",
              "3377                 FISHING        SHELLFISH FROZEN   PRAWNS/SHRIMP (F)   \n",
              "3378                 FISHING        SHELLFISH FROZEN   PRAWNS/SHRIMP (F)   \n",
              "3379                 FISHING        SHELLFISH FROZEN   PRAWNS/SHRIMP (F)   \n",
              "\n",
              "      Carbon footprint  (kg CO2 eq/kg or litre of food commodity)  \\\n",
              "0                                                 0.420             \n",
              "1                                                 0.568             \n",
              "2                                                 0.666             \n",
              "3                                                 0.842             \n",
              "4                                                 0.961             \n",
              "...                                                 ...             \n",
              "3375                                              7.879             \n",
              "3376                                              5.805             \n",
              "3377                                              7.200             \n",
              "3378                                             22.930             \n",
              "3379                                             35.000             \n",
              "\n",
              "     Type of source                                     Full Reference  \\\n",
              "0               EPD  BIER, 2012. Research on the carbon footprint o...   \n",
              "1           JOURNAL  Cimini, A., & Moresi, M. (2016). Carbon footpr...   \n",
              "2           JOURNAL  Cimini, A., & Moresi, M. (2016). Carbon footpr...   \n",
              "3           JOURNAL  Amienyo, D., & Azapagic, A. (2016). Life cycle...   \n",
              "4               EPD  Carlsberg. Environmental Product Declaration o...   \n",
              "...             ...                                                ...   \n",
              "3375        JOURNAL  VÃ zquez-Rowe, I., M.T. Moreira, G. Feijoo. En...   \n",
              "3376   LCA DATABASE    LCA Food, viewed on June 2013. <www.LCAfood.dk>   \n",
              "3377        JOURNAL  Farmery, A., C. Gardner, B. S. Green, S. Jenni...   \n",
              "3378        JOURNAL  Ziegler, F., J.L. Eichelsheim, A. Emanuelsson,...   \n",
              "3379        JOURNAL  Ziegler, F., A. Emanuelsson, J. L. Eichelsheim...   \n",
              "\n",
              "     Publication year                      System Boundary  Distribution  \\\n",
              "0                2012                                           RETAILER   \n",
              "1                2016                                           RETAILER   \n",
              "2                2016                                           RETAILER   \n",
              "3                2016                                             RETAIL   \n",
              "4                2018                                           RETAILER   \n",
              "...               ...                                                ...   \n",
              "3375             2012                        SB spanish market, imported   \n",
              "3376             2010  SB is calculated as the mean value of CF betwe...   \n",
              "3377             2015                                                RDC   \n",
              "3378             2009                         IMPORTED FROM SPAIN, PORT    \n",
              "3379             2011                                                RDC   \n",
              "\n",
              "        Country              Region                Notes  \\\n",
              "0        Europe              Europe   33.cc.glass bottle   \n",
              "1         Italy  Mediterranean area  66.cc. glass bottle   \n",
              "2         Italy  Mediterranean area   33.cc.glass bottle   \n",
              "3            UK            N Europe   33.cc.glass bottle   \n",
              "4         Italy  Mediterranean area   33.cc.glass bottle   \n",
              "...         ...                 ...                  ...   \n",
              "3375      Chile           S America                 wild   \n",
              "3376    Denmark            N Europe                 wild   \n",
              "3377  Australia             Oceania               frozen   \n",
              "3378    Senegal              Africa                 wild   \n",
              "3379    Senegal              Africa                 wild   \n",
              "\n",
              "     Reported in other data summaries Modification of original values   \n",
              "0                          this study                                -  \n",
              "1                          this study                                -  \n",
              "2                          this study                                -  \n",
              "3                          this study                                -  \n",
              "4                          this study                                -  \n",
              "...                               ...                              ...  \n",
              "3375       BCFN (double pyramid 2016)                                P  \n",
              "3376       BCFN (double pyramid 2016)                                P  \n",
              "3377        Clune et al 2017 database                                -  \n",
              "3378       BCFN (double pyramid 2016)                                -  \n",
              "3379        Clune et al 2017 database                                -  \n",
              "\n",
              "[3380 rows x 13 columns]"
            ]
          },
          "execution_count": 3,
          "metadata": {},
          "output_type": "execute_result"
        }
      ],
      "source": [
        "input_file"
      ]
    },
    {
      "cell_type": "code",
      "execution_count": 4,
      "metadata": {
        "id": "Ynucbg0at6DW"
      },
      "outputs": [],
      "source": [
        "#converting all regions to the uppercase\n",
        "input_file['Region'] = input_file['Region'].str.upper()"
      ]
    },
    {
      "cell_type": "code",
      "execution_count": 5,
      "metadata": {
        "id": "aSwoyRXzuBMp"
      },
      "outputs": [],
      "source": [
        "#converting all countries to the uppercase\n",
        "input_file['Country'] = input_file['Country'].str.upper()"
      ]
    },
    {
      "cell_type": "code",
      "execution_count": 6,
      "metadata": {
        "id": "fqSAFMqvn7z_"
      },
      "outputs": [],
      "source": [
        "#removing duplicates rows(data)\n",
        "input_file = input_file.drop_duplicates(keep='first')"
      ]
    },
    {
      "cell_type": "code",
      "execution_count": 7,
      "metadata": {
        "colab": {
          "base_uri": "https://localhost:8080/"
        },
        "id": "sCtv-xl7n_X-",
        "outputId": "83876113-b658-4062-e9ae-fe210136b817"
      },
      "outputs": [
        {
          "data": {
            "text/plain": [
              "3340"
            ]
          },
          "execution_count": 7,
          "metadata": {},
          "output_type": "execute_result"
        }
      ],
      "source": [
        "len(input_file)"
      ]
    },
    {
      "cell_type": "code",
      "execution_count": 8,
      "metadata": {
        "colab": {
          "base_uri": "https://localhost:8080/",
          "height": 1000
        },
        "id": "wuQu5ZX_uXah",
        "outputId": "b3f6c9e3-9180-452b-f684-82c856089c35"
      },
      "outputs": [
        {
          "data": {
            "text/html": [
              "<div>\n",
              "<style scoped>\n",
              "    .dataframe tbody tr th:only-of-type {\n",
              "        vertical-align: middle;\n",
              "    }\n",
              "\n",
              "    .dataframe tbody tr th {\n",
              "        vertical-align: top;\n",
              "    }\n",
              "\n",
              "    .dataframe thead th {\n",
              "        text-align: right;\n",
              "    }\n",
              "</style>\n",
              "<table border=\"1\" class=\"dataframe\">\n",
              "  <thead>\n",
              "    <tr style=\"text-align: right;\">\n",
              "      <th></th>\n",
              "      <th>FOOD COMMODITY GROUP</th>\n",
              "      <th>FOOD COMMODITY TYPOLOGY</th>\n",
              "      <th>FOOD COMMODITY ITEM</th>\n",
              "      <th>Carbon footprint  (kg CO2 eq/kg or litre of food commodity)</th>\n",
              "      <th>Type of source</th>\n",
              "      <th>Full Reference</th>\n",
              "      <th>Publication year</th>\n",
              "      <th>System Boundary  Distribution</th>\n",
              "      <th>Country</th>\n",
              "      <th>Region</th>\n",
              "      <th>Notes</th>\n",
              "      <th>Reported in other data summaries</th>\n",
              "      <th>Modification of original values</th>\n",
              "    </tr>\n",
              "  </thead>\n",
              "  <tbody>\n",
              "    <tr>\n",
              "      <th>0</th>\n",
              "      <td>AGRICULTURAL PROCESSED</td>\n",
              "      <td>BEER</td>\n",
              "      <td>BEER GLASS BOTTLE</td>\n",
              "      <td>0.420</td>\n",
              "      <td>EPD</td>\n",
              "      <td>BIER, 2012. Research on the carbon footprint o...</td>\n",
              "      <td>2012</td>\n",
              "      <td>RETAILER</td>\n",
              "      <td>EUROPE</td>\n",
              "      <td>EUROPE</td>\n",
              "      <td>33.cc.glass bottle</td>\n",
              "      <td>this study</td>\n",
              "      <td>-</td>\n",
              "    </tr>\n",
              "    <tr>\n",
              "      <th>1</th>\n",
              "      <td>AGRICULTURAL PROCESSED</td>\n",
              "      <td>BEER</td>\n",
              "      <td>BEER GLASS BOTTLE</td>\n",
              "      <td>0.568</td>\n",
              "      <td>JOURNAL</td>\n",
              "      <td>Cimini, A., &amp; Moresi, M. (2016). Carbon footpr...</td>\n",
              "      <td>2016</td>\n",
              "      <td>RETAILER</td>\n",
              "      <td>ITALY</td>\n",
              "      <td>MEDITERRANEAN AREA</td>\n",
              "      <td>66.cc. glass bottle</td>\n",
              "      <td>this study</td>\n",
              "      <td>-</td>\n",
              "    </tr>\n",
              "    <tr>\n",
              "      <th>2</th>\n",
              "      <td>AGRICULTURAL PROCESSED</td>\n",
              "      <td>BEER</td>\n",
              "      <td>BEER GLASS BOTTLE</td>\n",
              "      <td>0.666</td>\n",
              "      <td>JOURNAL</td>\n",
              "      <td>Cimini, A., &amp; Moresi, M. (2016). Carbon footpr...</td>\n",
              "      <td>2016</td>\n",
              "      <td>RETAILER</td>\n",
              "      <td>ITALY</td>\n",
              "      <td>MEDITERRANEAN AREA</td>\n",
              "      <td>33.cc.glass bottle</td>\n",
              "      <td>this study</td>\n",
              "      <td>-</td>\n",
              "    </tr>\n",
              "    <tr>\n",
              "      <th>3</th>\n",
              "      <td>AGRICULTURAL PROCESSED</td>\n",
              "      <td>BEER</td>\n",
              "      <td>BEER GLASS BOTTLE</td>\n",
              "      <td>0.842</td>\n",
              "      <td>JOURNAL</td>\n",
              "      <td>Amienyo, D., &amp; Azapagic, A. (2016). Life cycle...</td>\n",
              "      <td>2016</td>\n",
              "      <td>RETAIL</td>\n",
              "      <td>UK</td>\n",
              "      <td>N EUROPE</td>\n",
              "      <td>33.cc.glass bottle</td>\n",
              "      <td>this study</td>\n",
              "      <td>-</td>\n",
              "    </tr>\n",
              "    <tr>\n",
              "      <th>4</th>\n",
              "      <td>AGRICULTURAL PROCESSED</td>\n",
              "      <td>BEER</td>\n",
              "      <td>BEER GLASS BOTTLE</td>\n",
              "      <td>0.961</td>\n",
              "      <td>EPD</td>\n",
              "      <td>Carlsberg. Environmental Product Declaration o...</td>\n",
              "      <td>2018</td>\n",
              "      <td>RETAILER</td>\n",
              "      <td>ITALY</td>\n",
              "      <td>MEDITERRANEAN AREA</td>\n",
              "      <td>33.cc.glass bottle</td>\n",
              "      <td>this study</td>\n",
              "      <td>-</td>\n",
              "    </tr>\n",
              "    <tr>\n",
              "      <th>...</th>\n",
              "      <td>...</td>\n",
              "      <td>...</td>\n",
              "      <td>...</td>\n",
              "      <td>...</td>\n",
              "      <td>...</td>\n",
              "      <td>...</td>\n",
              "      <td>...</td>\n",
              "      <td>...</td>\n",
              "      <td>...</td>\n",
              "      <td>...</td>\n",
              "      <td>...</td>\n",
              "      <td>...</td>\n",
              "      <td>...</td>\n",
              "    </tr>\n",
              "    <tr>\n",
              "      <th>3375</th>\n",
              "      <td>FISHING</td>\n",
              "      <td>SHELLFISH FROZEN</td>\n",
              "      <td>OCTOPUS (F)</td>\n",
              "      <td>7.879</td>\n",
              "      <td>JOURNAL</td>\n",
              "      <td>VÃ zquez-Rowe, I., M.T. Moreira, G. Feijoo. En...</td>\n",
              "      <td>2012</td>\n",
              "      <td>SB spanish market, imported</td>\n",
              "      <td>CHILE</td>\n",
              "      <td>S AMERICA</td>\n",
              "      <td>wild</td>\n",
              "      <td>BCFN (double pyramid 2016)</td>\n",
              "      <td>P</td>\n",
              "    </tr>\n",
              "    <tr>\n",
              "      <th>3376</th>\n",
              "      <td>FISHING</td>\n",
              "      <td>SHELLFISH FROZEN</td>\n",
              "      <td>PRAWNS/SHRIMP (F)</td>\n",
              "      <td>5.805</td>\n",
              "      <td>LCA DATABASE</td>\n",
              "      <td>LCA Food, viewed on June 2013. &lt;www.LCAfood.dk&gt;</td>\n",
              "      <td>2010</td>\n",
              "      <td>SB is calculated as the mean value of CF betwe...</td>\n",
              "      <td>DENMARK</td>\n",
              "      <td>N EUROPE</td>\n",
              "      <td>wild</td>\n",
              "      <td>BCFN (double pyramid 2016)</td>\n",
              "      <td>P</td>\n",
              "    </tr>\n",
              "    <tr>\n",
              "      <th>3377</th>\n",
              "      <td>FISHING</td>\n",
              "      <td>SHELLFISH FROZEN</td>\n",
              "      <td>PRAWNS/SHRIMP (F)</td>\n",
              "      <td>7.200</td>\n",
              "      <td>JOURNAL</td>\n",
              "      <td>Farmery, A., C. Gardner, B. S. Green, S. Jenni...</td>\n",
              "      <td>2015</td>\n",
              "      <td>RDC</td>\n",
              "      <td>AUSTRALIA</td>\n",
              "      <td>OCEANIA</td>\n",
              "      <td>frozen</td>\n",
              "      <td>Clune et al 2017 database</td>\n",
              "      <td>-</td>\n",
              "    </tr>\n",
              "    <tr>\n",
              "      <th>3378</th>\n",
              "      <td>FISHING</td>\n",
              "      <td>SHELLFISH FROZEN</td>\n",
              "      <td>PRAWNS/SHRIMP (F)</td>\n",
              "      <td>22.930</td>\n",
              "      <td>JOURNAL</td>\n",
              "      <td>Ziegler, F., J.L. Eichelsheim, A. Emanuelsson,...</td>\n",
              "      <td>2009</td>\n",
              "      <td>IMPORTED FROM SPAIN, PORT</td>\n",
              "      <td>SENEGAL</td>\n",
              "      <td>AFRICA</td>\n",
              "      <td>wild</td>\n",
              "      <td>BCFN (double pyramid 2016)</td>\n",
              "      <td>-</td>\n",
              "    </tr>\n",
              "    <tr>\n",
              "      <th>3379</th>\n",
              "      <td>FISHING</td>\n",
              "      <td>SHELLFISH FROZEN</td>\n",
              "      <td>PRAWNS/SHRIMP (F)</td>\n",
              "      <td>35.000</td>\n",
              "      <td>JOURNAL</td>\n",
              "      <td>Ziegler, F., A. Emanuelsson, J. L. Eichelsheim...</td>\n",
              "      <td>2011</td>\n",
              "      <td>RDC</td>\n",
              "      <td>SENEGAL</td>\n",
              "      <td>AFRICA</td>\n",
              "      <td>wild</td>\n",
              "      <td>Clune et al 2017 database</td>\n",
              "      <td>-</td>\n",
              "    </tr>\n",
              "  </tbody>\n",
              "</table>\n",
              "<p>3340 rows × 13 columns</p>\n",
              "</div>"
            ],
            "text/plain": [
              "        FOOD COMMODITY GROUP FOOD COMMODITY TYPOLOGY FOOD COMMODITY ITEM  \\\n",
              "0     AGRICULTURAL PROCESSED                    BEER   BEER GLASS BOTTLE   \n",
              "1     AGRICULTURAL PROCESSED                    BEER   BEER GLASS BOTTLE   \n",
              "2     AGRICULTURAL PROCESSED                    BEER   BEER GLASS BOTTLE   \n",
              "3     AGRICULTURAL PROCESSED                    BEER   BEER GLASS BOTTLE   \n",
              "4     AGRICULTURAL PROCESSED                    BEER   BEER GLASS BOTTLE   \n",
              "...                      ...                     ...                 ...   \n",
              "3375                 FISHING        SHELLFISH FROZEN         OCTOPUS (F)   \n",
              "3376                 FISHING        SHELLFISH FROZEN   PRAWNS/SHRIMP (F)   \n",
              "3377                 FISHING        SHELLFISH FROZEN   PRAWNS/SHRIMP (F)   \n",
              "3378                 FISHING        SHELLFISH FROZEN   PRAWNS/SHRIMP (F)   \n",
              "3379                 FISHING        SHELLFISH FROZEN   PRAWNS/SHRIMP (F)   \n",
              "\n",
              "      Carbon footprint  (kg CO2 eq/kg or litre of food commodity)  \\\n",
              "0                                                 0.420             \n",
              "1                                                 0.568             \n",
              "2                                                 0.666             \n",
              "3                                                 0.842             \n",
              "4                                                 0.961             \n",
              "...                                                 ...             \n",
              "3375                                              7.879             \n",
              "3376                                              5.805             \n",
              "3377                                              7.200             \n",
              "3378                                             22.930             \n",
              "3379                                             35.000             \n",
              "\n",
              "     Type of source                                     Full Reference  \\\n",
              "0               EPD  BIER, 2012. Research on the carbon footprint o...   \n",
              "1           JOURNAL  Cimini, A., & Moresi, M. (2016). Carbon footpr...   \n",
              "2           JOURNAL  Cimini, A., & Moresi, M. (2016). Carbon footpr...   \n",
              "3           JOURNAL  Amienyo, D., & Azapagic, A. (2016). Life cycle...   \n",
              "4               EPD  Carlsberg. Environmental Product Declaration o...   \n",
              "...             ...                                                ...   \n",
              "3375        JOURNAL  VÃ zquez-Rowe, I., M.T. Moreira, G. Feijoo. En...   \n",
              "3376   LCA DATABASE    LCA Food, viewed on June 2013. <www.LCAfood.dk>   \n",
              "3377        JOURNAL  Farmery, A., C. Gardner, B. S. Green, S. Jenni...   \n",
              "3378        JOURNAL  Ziegler, F., J.L. Eichelsheim, A. Emanuelsson,...   \n",
              "3379        JOURNAL  Ziegler, F., A. Emanuelsson, J. L. Eichelsheim...   \n",
              "\n",
              "     Publication year                      System Boundary  Distribution  \\\n",
              "0                2012                                           RETAILER   \n",
              "1                2016                                           RETAILER   \n",
              "2                2016                                           RETAILER   \n",
              "3                2016                                             RETAIL   \n",
              "4                2018                                           RETAILER   \n",
              "...               ...                                                ...   \n",
              "3375             2012                        SB spanish market, imported   \n",
              "3376             2010  SB is calculated as the mean value of CF betwe...   \n",
              "3377             2015                                                RDC   \n",
              "3378             2009                         IMPORTED FROM SPAIN, PORT    \n",
              "3379             2011                                                RDC   \n",
              "\n",
              "        Country              Region                Notes  \\\n",
              "0        EUROPE              EUROPE   33.cc.glass bottle   \n",
              "1         ITALY  MEDITERRANEAN AREA  66.cc. glass bottle   \n",
              "2         ITALY  MEDITERRANEAN AREA   33.cc.glass bottle   \n",
              "3            UK            N EUROPE   33.cc.glass bottle   \n",
              "4         ITALY  MEDITERRANEAN AREA   33.cc.glass bottle   \n",
              "...         ...                 ...                  ...   \n",
              "3375      CHILE           S AMERICA                 wild   \n",
              "3376    DENMARK            N EUROPE                 wild   \n",
              "3377  AUSTRALIA             OCEANIA               frozen   \n",
              "3378    SENEGAL              AFRICA                 wild   \n",
              "3379    SENEGAL              AFRICA                 wild   \n",
              "\n",
              "     Reported in other data summaries Modification of original values   \n",
              "0                          this study                                -  \n",
              "1                          this study                                -  \n",
              "2                          this study                                -  \n",
              "3                          this study                                -  \n",
              "4                          this study                                -  \n",
              "...                               ...                              ...  \n",
              "3375       BCFN (double pyramid 2016)                                P  \n",
              "3376       BCFN (double pyramid 2016)                                P  \n",
              "3377        Clune et al 2017 database                                -  \n",
              "3378       BCFN (double pyramid 2016)                                -  \n",
              "3379        Clune et al 2017 database                                -  \n",
              "\n",
              "[3340 rows x 13 columns]"
            ]
          },
          "execution_count": 8,
          "metadata": {},
          "output_type": "execute_result"
        }
      ],
      "source": [
        "input_file"
      ]
    },
    {
      "cell_type": "code",
      "execution_count": 9,
      "metadata": {
        "id": "rmXq7UMUoBPk"
      },
      "outputs": [],
      "source": [
        "input_file.to_csv('D:/IIITD/Mansi_Thesis_Research/Foodprint/Updated_Mansi/Data/Sueatable_preprocessed_data.csv', header=True, index=False)"
      ]
    },
    {
      "cell_type": "markdown",
      "metadata": {
        "id": "bmIgtRLBohfu"
      },
      "source": [
        "Total Regions\n"
      ]
    },
    {
      "cell_type": "code",
      "execution_count": 10,
      "metadata": {
        "colab": {
          "base_uri": "https://localhost:8080/"
        },
        "id": "3BvsIyGdojgw",
        "outputId": "e988fd00-4f96-468e-a66b-4790928c3f7e"
      },
      "outputs": [
        {
          "data": {
            "text/plain": [
              "18"
            ]
          },
          "execution_count": 10,
          "metadata": {},
          "output_type": "execute_result"
        }
      ],
      "source": [
        "len(input_file['Region'].unique())"
      ]
    },
    {
      "cell_type": "code",
      "execution_count": 11,
      "metadata": {
        "colab": {
          "base_uri": "https://localhost:8080/"
        },
        "id": "zPxwUhXdom3b",
        "outputId": "46dd9d6a-98e2-45d2-8157-b5624e96cc5c"
      },
      "outputs": [
        {
          "data": {
            "text/plain": [
              "array(['EUROPE', 'MEDITERRANEAN AREA', 'N EUROPE', 'S AMERICA',\n",
              "       'N AMERICA', 'ASIA', 'WORLD', 'C AMERICA', 'AFRICA', 'OCEANIA',\n",
              "       'E EUROPE', 'W EUROPE', 'C EUROPE', 'CS AMERICA', 'S AFRICA',\n",
              "       'NON EU COUNTRIES', 'ATLANTIC OCEAN', 'PACIFIC OCEAN'],\n",
              "      dtype=object)"
            ]
          },
          "execution_count": 11,
          "metadata": {},
          "output_type": "execute_result"
        }
      ],
      "source": [
        "input_file['Region'].unique()"
      ]
    },
    {
      "cell_type": "markdown",
      "metadata": {
        "id": "nWL4swzhooWx"
      },
      "source": [
        "Total Countries"
      ]
    },
    {
      "cell_type": "code",
      "execution_count": 12,
      "metadata": {
        "colab": {
          "base_uri": "https://localhost:8080/"
        },
        "id": "qHEr7vSeoqGi",
        "outputId": "1e986cd3-2bf9-41ba-e59d-da7f328c7d8f"
      },
      "outputs": [
        {
          "data": {
            "text/plain": [
              "112"
            ]
          },
          "execution_count": 12,
          "metadata": {},
          "output_type": "execute_result"
        }
      ],
      "source": [
        "len(input_file['Country'].unique())"
      ]
    },
    {
      "cell_type": "code",
      "execution_count": 13,
      "metadata": {
        "colab": {
          "base_uri": "https://localhost:8080/"
        },
        "id": "ULJ-gQQAosy8",
        "outputId": "cd7f327c-dd74-471c-9012-9de95d2145a6"
      },
      "outputs": [
        {
          "data": {
            "text/plain": [
              "array(['EUROPE', 'ITALY', 'UK', 'CHILE', 'USA', 'MEDITERRANEAN AREA',\n",
              "       'FRANCE', 'INDIA', 'AUSTRIA', 'DENMARK', 'SWEDEN',\n",
              "       'WORLD ESTIMATE', 'PORTUGAL', 'SPAIN', 'ECUADOR', 'COSTA RICA',\n",
              "       'TANZANIA', 'MEXICO', 'GUATEMALA', 'NICARAGUA', 'EL SALVADOR',\n",
              "       'COLOMBIA', 'BRAZIL', 'VIETNAM', 'GERMANY', 'NETHERLANDS', 'MALTA',\n",
              "       'CHINA', 'AUSTRALIA', 'CANADA', 'ARGENTINA', 'GREECE', 'TURKEY',\n",
              "       'CYPRUS', 'MALAYSIA', 'MAURITIUS', 'THAILAND', 'LUXEMBOURG',\n",
              "       'FINLAND', 'E EUROPE', 'LITHUANIA', 'POLAND', 'RUSSIA', 'SLOVAKIA',\n",
              "       'EU 27', 'IRELAND', 'ROMANIA', 'BULGARIA', 'LATVIA', 'NORWAY',\n",
              "       'BELGIUM', 'CANADA (WEST)', 'USA MID-WEST', 'W EUROPE',\n",
              "       'CZECH REPUBLIC', 'URUGUAY', 'SLOVENIA', 'CANADA (EAST)', 'JAPAN',\n",
              "       'HUNGARY', 'OCEANIA', 'ESTONIA', 'AFRICA (NEAR EAST AND NORTH)',\n",
              "       'N AMERICA', 'VENEZUELA', 'ASIA (EAST AND SOUTH-EAST)',\n",
              "       'AFRICA (SUBSAHARAN)', 'ASIA (SOUTH)', 'N EUROPE', 'C EUROPE',\n",
              "       'S AMERICA (LATIN AMERICA AND CARIBEAN)', 'NEW ZEALAND',\n",
              "       'SWITZERLAND', 'UKRAINE', 'MOLDAVIA', 'SERBIA', 'ISRAEL',\n",
              "       'SOUTH AFRICA', 'CROATIA', 'KAZAKHISTAN', 'PERU', 'MOROCCO',\n",
              "       'E ASIA', 'BELARUS', 'UGANDA', 'PAKISTAN', 'BANGLADESH',\n",
              "       'AMERICA (CENTRAL AND SOUTH)', 'NORTH AFRICA', 'FRANCE (CORSICA)',\n",
              "       'REUNION ISLAND', 'IRAN', 'NON EU COUNTRIES', 'S AMERICA',\n",
              "       'FRANCE (NORTH)', 'FRANCE (SOUTH)', 'SPAIN (VALENCIA)',\n",
              "       'PHILIPPINES', 'GHANA', 'UK (SCOTLAND)', 'KOREA', 'MALDIVES',\n",
              "       'INDONESIA', 'MADAGASCAR', 'SOMALIA', 'ICELAND', 'SENEGAL',\n",
              "       'TUNISIA', 'INDIAN OCEAN', 'ATLANTIC OCEAN', 'PACIFIC OCEAN',\n",
              "       'ALASKA'], dtype=object)"
            ]
          },
          "execution_count": 13,
          "metadata": {},
          "output_type": "execute_result"
        }
      ],
      "source": [
        "input_file['Country'].unique()"
      ]
    },
    {
      "cell_type": "markdown",
      "metadata": {
        "id": "EILg4nLzu67g"
      },
      "source": [
        "**Country Region Mapping**"
      ]
    },
    {
      "cell_type": "code",
      "execution_count": 14,
      "metadata": {
        "id": "i6AdkgOiuZ84"
      },
      "outputs": [],
      "source": [
        "tem3 = input_file"
      ]
    },
    {
      "cell_type": "code",
      "execution_count": 15,
      "metadata": {
        "id": "zboy5AkMvClQ"
      },
      "outputs": [
        {
          "name": "stderr",
          "output_type": "stream",
          "text": [
            "C:\\Users\\Mansi Goel\\AppData\\Local\\Temp\\ipykernel_32760\\1123570305.py:1: SettingWithCopyWarning: \n",
            "A value is trying to be set on a copy of a slice from a DataFrame\n",
            "\n",
            "See the caveats in the documentation: https://pandas.pydata.org/pandas-docs/stable/user_guide/indexing.html#returning-a-view-versus-a-copy\n",
            "  tem3.drop(tem3.columns[[0, 1, 2, 3, 4, 5, 6, 7, 10, 11, 12]], axis=1, inplace=True)\n"
          ]
        }
      ],
      "source": [
        "tem3.drop(tem3.columns[[0, 1, 2, 3, 4, 5, 6, 7, 10, 11, 12]], axis=1, inplace=True)"
      ]
    },
    {
      "cell_type": "code",
      "execution_count": 16,
      "metadata": {
        "colab": {
          "base_uri": "https://localhost:8080/"
        },
        "id": "PUFeOOfSoJk8",
        "outputId": "b0c96f94-57c3-44d0-fc15-170afee265a8"
      },
      "outputs": [
        {
          "data": {
            "text/plain": [
              "112"
            ]
          },
          "execution_count": 16,
          "metadata": {},
          "output_type": "execute_result"
        }
      ],
      "source": [
        "s = tem3.drop_duplicates()\n",
        "len(s)"
      ]
    },
    {
      "cell_type": "code",
      "execution_count": 17,
      "metadata": {
        "id": "yjj69Kz8vFNN"
      },
      "outputs": [],
      "source": [
        "s2 = s.sort_values(by = ['Region', 'Country'], ascending = [True, True])"
      ]
    },
    {
      "cell_type": "code",
      "execution_count": 18,
      "metadata": {
        "colab": {
          "base_uri": "https://localhost:8080/",
          "height": 424
        },
        "id": "pO0QE7XDrAKu",
        "outputId": "13dc7972-b1e2-450b-b2b8-b1513d8904d6"
      },
      "outputs": [
        {
          "data": {
            "text/html": [
              "<div>\n",
              "<style scoped>\n",
              "    .dataframe tbody tr th:only-of-type {\n",
              "        vertical-align: middle;\n",
              "    }\n",
              "\n",
              "    .dataframe tbody tr th {\n",
              "        vertical-align: top;\n",
              "    }\n",
              "\n",
              "    .dataframe thead th {\n",
              "        text-align: right;\n",
              "    }\n",
              "</style>\n",
              "<table border=\"1\" class=\"dataframe\">\n",
              "  <thead>\n",
              "    <tr style=\"text-align: right;\">\n",
              "      <th></th>\n",
              "      <th>Country</th>\n",
              "      <th>Region</th>\n",
              "    </tr>\n",
              "  </thead>\n",
              "  <tbody>\n",
              "    <tr>\n",
              "      <th>765</th>\n",
              "      <td>AFRICA (NEAR EAST AND NORTH)</td>\n",
              "      <td>AFRICA</td>\n",
              "    </tr>\n",
              "    <tr>\n",
              "      <th>780</th>\n",
              "      <td>AFRICA (SUBSAHARAN)</td>\n",
              "      <td>AFRICA</td>\n",
              "    </tr>\n",
              "    <tr>\n",
              "      <th>2424</th>\n",
              "      <td>GHANA</td>\n",
              "      <td>AFRICA</td>\n",
              "    </tr>\n",
              "    <tr>\n",
              "      <th>3083</th>\n",
              "      <td>MADAGASCAR</td>\n",
              "      <td>AFRICA</td>\n",
              "    </tr>\n",
              "    <tr>\n",
              "      <th>462</th>\n",
              "      <td>MAURITIUS</td>\n",
              "      <td>AFRICA</td>\n",
              "    </tr>\n",
              "    <tr>\n",
              "      <th>...</th>\n",
              "      <td>...</td>\n",
              "      <td>...</td>\n",
              "    </tr>\n",
              "    <tr>\n",
              "      <th>1005</th>\n",
              "      <td>S AMERICA (LATIN AMERICA AND CARIBEAN)</td>\n",
              "      <td>S AMERICA</td>\n",
              "    </tr>\n",
              "    <tr>\n",
              "      <th>725</th>\n",
              "      <td>URUGUAY</td>\n",
              "      <td>S AMERICA</td>\n",
              "    </tr>\n",
              "    <tr>\n",
              "      <th>769</th>\n",
              "      <td>VENEZUELA</td>\n",
              "      <td>S AMERICA</td>\n",
              "    </tr>\n",
              "    <tr>\n",
              "      <th>709</th>\n",
              "      <td>W EUROPE</td>\n",
              "      <td>W EUROPE</td>\n",
              "    </tr>\n",
              "    <tr>\n",
              "      <th>92</th>\n",
              "      <td>WORLD ESTIMATE</td>\n",
              "      <td>WORLD</td>\n",
              "    </tr>\n",
              "  </tbody>\n",
              "</table>\n",
              "<p>112 rows × 2 columns</p>\n",
              "</div>"
            ],
            "text/plain": [
              "                                     Country     Region\n",
              "765             AFRICA (NEAR EAST AND NORTH)     AFRICA\n",
              "780                      AFRICA (SUBSAHARAN)     AFRICA\n",
              "2424                                   GHANA     AFRICA\n",
              "3083                              MADAGASCAR     AFRICA\n",
              "462                                MAURITIUS     AFRICA\n",
              "...                                      ...        ...\n",
              "1005  S AMERICA (LATIN AMERICA AND CARIBEAN)  S AMERICA\n",
              "725                                  URUGUAY  S AMERICA\n",
              "769                                VENEZUELA  S AMERICA\n",
              "709                                 W EUROPE   W EUROPE\n",
              "92                            WORLD ESTIMATE      WORLD\n",
              "\n",
              "[112 rows x 2 columns]"
            ]
          },
          "execution_count": 18,
          "metadata": {},
          "output_type": "execute_result"
        }
      ],
      "source": [
        "s2"
      ]
    },
    {
      "cell_type": "code",
      "execution_count": 19,
      "metadata": {
        "id": "pQMzAqNhvqcd"
      },
      "outputs": [],
      "source": [
        "s2.to_csv('D:/IIITD/Mansi_Thesis_Research/Foodprint/Updated_Mansi/Extra/country_region_mapping.csv', header=True, index=False)"
      ]
    }
  ],
  "metadata": {
    "colab": {
      "collapsed_sections": [
        "ep7dBSt81mGB",
        "zICdnOhR6FPv"
      ],
      "provenance": []
    },
    "kernelspec": {
      "display_name": "Python 3",
      "language": "python",
      "name": "python3"
    },
    "language_info": {
      "codemirror_mode": {
        "name": "ipython",
        "version": 3
      },
      "file_extension": ".py",
      "mimetype": "text/x-python",
      "name": "python",
      "nbconvert_exporter": "python",
      "pygments_lexer": "ipython3",
      "version": "3.11.2"
    },
    "vscode": {
      "interpreter": {
        "hash": "52634da84371cba311ea128a5ea7cdc41ff074b781779e754b270ff9f8153cee"
      }
    }
  },
  "nbformat": 4,
  "nbformat_minor": 0
}
