{
 "cells": [
  {
   "cell_type": "code",
   "execution_count": 1,
   "metadata": {},
   "outputs": [],
   "source": [
    "import pandas as pd\n",
    "import numpy as np\n",
    "from matplotlib import pyplot as plt\n",
    "import seaborn as sns\n"
   ]
  },
  {
   "cell_type": "code",
   "execution_count": 2,
   "metadata": {},
   "outputs": [],
   "source": [
    "total_mapped_rdb = pd.read_csv(\"D:/IIITD/Mansi_Thesis_Research/Foodprint/Github-SustainableFoodDB/Data/Mapped/bert_nli_recipedb_sueat_mapping.csv\")\n",
    "mapped_cf = pd.read_csv('D:/IIITD/Mansi_Thesis_Research/Foodprint/Github-SustainableFoodDB/Data/Mapped/Recipedb_mapped_ing_CF.csv')\n",
    "total_sueat = pd.read_csv(\"D:/IIITD/Mansi_Thesis_Research/Foodprint/Github-SustainableFoodDB/Data/Food_Items_CF_clean_1.csv\")"
   ]
  },
  {
   "cell_type": "code",
   "execution_count": 3,
   "metadata": {},
   "outputs": [],
   "source": [
    "uniq_sueat = list(total_sueat['FOOD COMMODITY ITEM updated'].unique())"
   ]
  },
  {
   "cell_type": "code",
   "execution_count": 4,
   "metadata": {},
   "outputs": [
    {
     "data": {
      "text/plain": [
       "302"
      ]
     },
     "execution_count": 4,
     "metadata": {},
     "output_type": "execute_result"
    }
   ],
   "source": [
    "len(uniq_sueat)"
   ]
  },
  {
   "cell_type": "code",
   "execution_count": 5,
   "metadata": {},
   "outputs": [
    {
     "data": {
      "text/html": [
       "<div>\n",
       "<style scoped>\n",
       "    .dataframe tbody tr th:only-of-type {\n",
       "        vertical-align: middle;\n",
       "    }\n",
       "\n",
       "    .dataframe tbody tr th {\n",
       "        vertical-align: top;\n",
       "    }\n",
       "\n",
       "    .dataframe thead th {\n",
       "        text-align: right;\n",
       "    }\n",
       "</style>\n",
       "<table border=\"1\" class=\"dataframe\">\n",
       "  <thead>\n",
       "    <tr style=\"text-align: right;\">\n",
       "      <th></th>\n",
       "      <th>RecipeDB Ingredient</th>\n",
       "      <th>Sueatable Ingredient</th>\n",
       "      <th>Similarity</th>\n",
       "      <th>CF</th>\n",
       "    </tr>\n",
       "  </thead>\n",
       "  <tbody>\n",
       "    <tr>\n",
       "      <th>0</th>\n",
       "      <td>onion</td>\n",
       "      <td>ONION</td>\n",
       "      <td>1.000001</td>\n",
       "      <td>0.24</td>\n",
       "    </tr>\n",
       "    <tr>\n",
       "      <th>1</th>\n",
       "      <td>butter</td>\n",
       "      <td>BUTTER</td>\n",
       "      <td>1.000000</td>\n",
       "      <td>9.90</td>\n",
       "    </tr>\n",
       "    <tr>\n",
       "      <th>2</th>\n",
       "      <td>garlic clove</td>\n",
       "      <td>GARLIC</td>\n",
       "      <td>0.930919</td>\n",
       "      <td>0.67</td>\n",
       "    </tr>\n",
       "    <tr>\n",
       "      <th>3</th>\n",
       "      <td>water</td>\n",
       "      <td>WATER</td>\n",
       "      <td>1.000000</td>\n",
       "      <td>0.49</td>\n",
       "    </tr>\n",
       "    <tr>\n",
       "      <th>4</th>\n",
       "      <td>olive oil</td>\n",
       "      <td>OLIVE OIL</td>\n",
       "      <td>1.000000</td>\n",
       "      <td>3.84</td>\n",
       "    </tr>\n",
       "    <tr>\n",
       "      <th>...</th>\n",
       "      <td>...</td>\n",
       "      <td>...</td>\n",
       "      <td>...</td>\n",
       "      <td>...</td>\n",
       "    </tr>\n",
       "    <tr>\n",
       "      <th>7748</th>\n",
       "      <td>dutch cocoa hershey</td>\n",
       "      <td>HAZELNUT CHOCOLATE</td>\n",
       "      <td>0.823729</td>\n",
       "      <td>3.43</td>\n",
       "    </tr>\n",
       "    <tr>\n",
       "      <th>7749</th>\n",
       "      <td>milk chocolate hershey</td>\n",
       "      <td>MILK CHOCOLATE</td>\n",
       "      <td>0.947778</td>\n",
       "      <td>3.60</td>\n",
       "    </tr>\n",
       "    <tr>\n",
       "      <th>7750</th>\n",
       "      <td>chocolate flavor crisp rice cereal</td>\n",
       "      <td>CHOCOLATE CREAM COOKY</td>\n",
       "      <td>0.818652</td>\n",
       "      <td>1.69</td>\n",
       "    </tr>\n",
       "    <tr>\n",
       "      <th>7751</th>\n",
       "      <td>chocolate ripple ice cream</td>\n",
       "      <td>CHOCOLATE CREAM COOKY</td>\n",
       "      <td>0.925916</td>\n",
       "      <td>1.69</td>\n",
       "    </tr>\n",
       "    <tr>\n",
       "      <th>7752</th>\n",
       "      <td>caramel topping syrup</td>\n",
       "      <td>CRANBERRY JUICE</td>\n",
       "      <td>0.852054</td>\n",
       "      <td>2.88</td>\n",
       "    </tr>\n",
       "  </tbody>\n",
       "</table>\n",
       "<p>7753 rows × 4 columns</p>\n",
       "</div>"
      ],
      "text/plain": [
       "                     RecipeDB Ingredient   Sueatable Ingredient  Similarity  \\\n",
       "0                                  onion                  ONION    1.000001   \n",
       "1                                 butter                 BUTTER    1.000000   \n",
       "2                           garlic clove                 GARLIC    0.930919   \n",
       "3                                  water                  WATER    1.000000   \n",
       "4                              olive oil              OLIVE OIL    1.000000   \n",
       "...                                  ...                    ...         ...   \n",
       "7748                 dutch cocoa hershey     HAZELNUT CHOCOLATE    0.823729   \n",
       "7749              milk chocolate hershey         MILK CHOCOLATE    0.947778   \n",
       "7750  chocolate flavor crisp rice cereal  CHOCOLATE CREAM COOKY    0.818652   \n",
       "7751          chocolate ripple ice cream  CHOCOLATE CREAM COOKY    0.925916   \n",
       "7752               caramel topping syrup        CRANBERRY JUICE    0.852054   \n",
       "\n",
       "        CF  \n",
       "0     0.24  \n",
       "1     9.90  \n",
       "2     0.67  \n",
       "3     0.49  \n",
       "4     3.84  \n",
       "...    ...  \n",
       "7748  3.43  \n",
       "7749  3.60  \n",
       "7750  1.69  \n",
       "7751  1.69  \n",
       "7752  2.88  \n",
       "\n",
       "[7753 rows x 4 columns]"
      ]
     },
     "execution_count": 5,
     "metadata": {},
     "output_type": "execute_result"
    }
   ],
   "source": [
    "mapped_cf"
   ]
  },
  {
   "cell_type": "code",
   "execution_count": 6,
   "metadata": {},
   "outputs": [
    {
     "data": {
      "text/plain": [
       "266"
      ]
     },
     "execution_count": 6,
     "metadata": {},
     "output_type": "execute_result"
    }
   ],
   "source": [
    "mapped_subs = list(mapped_cf['Sueatable Ingredient'].unique())\n",
    "len(mapped_subs)"
   ]
  },
  {
   "cell_type": "code",
   "execution_count": 8,
   "metadata": {},
   "outputs": [
    {
     "data": {
      "image/png": "[encoded data removed]",
      "text/plain": [
       "<Figure size 800x600 with 1 Axes>"
      ]
     },
     "metadata": {},
     "output_type": "display_data"
    }
   ],
   "source": [
    "import numpy as np\n",
    "import matplotlib.pyplot as plt\n",
    "\n",
    "plt.rcParams['font.size'] = 18\n",
    "\n",
    "x = ['Exact match', 'BERT mapping']\n",
    "x_indices = np.arange(len(x))\n",
    "# x_indices = [0,1,5,8,9]\n",
    "bar_width = 0.2\n",
    "\n",
    "sueat_exact = 178\n",
    "sueat_subs = 266\n",
    "sueat_total = 302\n",
    "\n",
    "recipe_exact = 178\n",
    "recipe_subs = 7753\n",
    "recipe_total = 20280\n",
    "\n",
    "fig, ax = plt.subplots(figsize=(8,6))\n",
    "\n",
    "ax.bar(x_indices, [((sueat_exact/sueat_total)*100), ((sueat_subs/sueat_total)*100)], width=bar_width, color='darkorange', label='SuEatable')\n",
    "\n",
    "ax.bar(x_indices + bar_width, [((recipe_exact/recipe_total)*100), ((recipe_subs/recipe_total)*100)], width=bar_width, color= 'teal', label='RecipeDB')\n",
    "\n",
    "ax.set_ylabel('Percentage of ingredient mapped')\n",
    "ax.set_xticks(x_indices + bar_width/2)\n",
    "ax.set_xticklabels(x)\n",
    "\n",
    "ax.legend()\n",
    "\n",
    "plt.xticks(fontsize=14)\n",
    "plt.yticks(fontsize=14)\n",
    "\n",
    "plt.tight_layout()\n",
    "\n",
    "plt.savefig(\"D:/IIITD/Mansi_Thesis_Research/Foodprint/Carbon_Footprint_July23/Plots/Data_Analysis/Sueatable_recipedb_mapped.jpeg\", dpi=300)\n",
    "\n",
    "plt.show()\n"
   ]
  },
  {
   "cell_type": "markdown",
   "metadata": {},
   "source": [
    "# Umnapped sueatable"
   ]
  },
  {
   "cell_type": "code",
   "execution_count": 8,
   "metadata": {},
   "outputs": [
    {
     "data": {
      "text/plain": [
       "['COFFEE GROUND',\n",
       " 'HADDOCK FROZEN',\n",
       " 'YOGURT LACTOSE FREE',\n",
       " 'BUFFALO BONE FREE',\n",
       " 'HERRING FROZEN',\n",
       " 'LAMB BONE FREE',\n",
       " 'DUCK WITH BONE',\n",
       " 'ASIAGO',\n",
       " 'TUNA FROZEN',\n",
       " 'SALMON FROZEN',\n",
       " 'MIXED FISH FROZEN',\n",
       " 'ZUCCHINI FROZEN',\n",
       " 'DIAMOND FISH',\n",
       " 'MACKEREL FROZEN',\n",
       " 'EXOTIC FRUIT',\n",
       " 'MEALWORM',\n",
       " 'SHRIMP FROZEN',\n",
       " 'POMFRET',\n",
       " 'OCTOPUS FROZEN',\n",
       " 'EMU BONE FREE',\n",
       " 'CARROT FROZEN',\n",
       " 'KRILL',\n",
       " 'FORK BEARD',\n",
       " 'RAPE SEED',\n",
       " 'TURKEY BONE FREE',\n",
       " 'TROUT FROZEN',\n",
       " 'GREEN BEAN FROZEN',\n",
       " 'POLLOCK FROZEN',\n",
       " 'COD FROZEN',\n",
       " 'BREAD FROZEN',\n",
       " 'ANGLERFISH',\n",
       " 'BEAN FROZEN',\n",
       " 'DUCK BONE FREE',\n",
       " 'COFFEE PARCHMENT',\n",
       " 'COWPEA',\n",
       " 'TURBOT']"
      ]
     },
     "execution_count": 8,
     "metadata": {},
     "output_type": "execute_result"
    }
   ],
   "source": [
    "left_sueat = list(set(uniq_sueat)- set(mapped_subs))\n",
    "left_sueat"
   ]
  },
  {
   "cell_type": "code",
   "execution_count": 9,
   "metadata": {},
   "outputs": [
    {
     "data": {
      "text/plain": [
       "36"
      ]
     },
     "execution_count": 9,
     "metadata": {},
     "output_type": "execute_result"
    }
   ],
   "source": [
    "len(left_sueat)"
   ]
  },
  {
   "cell_type": "code",
   "execution_count": null,
   "metadata": {},
   "outputs": [],
   "source": [
    "sueat_unmap = pd.DataFrame()\n",
    "left_sueat"
   ]
  }
 ],
 "metadata": {
  "kernelspec": {
   "display_name": "Python 3",
   "language": "python",
   "name": "python3"
  },
  "language_info": {
   "codemirror_mode": {
    "name": "ipython",
    "version": 3
   },
   "file_extension": ".py",
   "mimetype": "text/x-python",
   "name": "python",
   "nbconvert_exporter": "python",
   "pygments_lexer": "ipython3",
   "version": "3.11.2"
  },
  "orig_nbformat": 4
 },
 "nbformat": 4,
 "nbformat_minor": 2
}
