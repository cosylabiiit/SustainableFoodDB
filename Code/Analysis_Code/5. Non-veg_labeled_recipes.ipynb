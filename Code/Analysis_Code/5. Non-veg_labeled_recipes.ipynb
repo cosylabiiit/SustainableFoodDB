{
 "cells": [
  {
   "cell_type": "code",
   "execution_count": 1,
   "metadata": {},
   "outputs": [],
   "source": [
    "import pandas as pd\n",
    "import matplotlib.pyplot as plt\n",
    "import numpy as np\n",
    "import seaborn as sns"
   ]
  },
  {
   "cell_type": "markdown",
   "metadata": {},
   "source": [
    "# Meat = Meat+Egg"
   ]
  },
  {
   "cell_type": "code",
   "execution_count": 2,
   "metadata": {},
   "outputs": [],
   "source": [
    "recipe_cat_info = pd.read_csv('D:/IIITD/Mansi_Thesis_Research/Foodprint/Github-SustainableFoodDB/Data/Category/Recipe_category_labelled_count.csv')"
   ]
  },
  {
   "cell_type": "code",
   "execution_count": 3,
   "metadata": {},
   "outputs": [
    {
     "data": {
      "text/plain": [
       "66000"
      ]
     },
     "execution_count": 3,
     "metadata": {},
     "output_type": "execute_result"
    }
   ],
   "source": [
    "meat_rcount=0\n",
    "for i in range(len(recipe_cat_info)):\n",
    "  if(recipe_cat_info['Meat Based'][i]>0 or recipe_cat_info['Egg Based'][i]>0 and recipe_cat_info['Seafood Based'][i]==0 and \n",
    "     recipe_cat_info['Fish Based'][i]==0):\n",
    "    meat_rcount+=1\n",
    "meat_rcount"
   ]
  },
  {
   "cell_type": "code",
   "execution_count": 4,
   "metadata": {},
   "outputs": [
    {
     "data": {
      "text/plain": [
       "3756"
      ]
     },
     "execution_count": 4,
     "metadata": {},
     "output_type": "execute_result"
    }
   ],
   "source": [
    "fish_rcount=0\n",
    "for i in range(len(recipe_cat_info)):\n",
    "  if(recipe_cat_info['Meat Based'][i]==0 and recipe_cat_info['Egg Based'][i] ==0 and recipe_cat_info['Seafood Based'][i]==0 and \n",
    "     recipe_cat_info['Fish Based'][i]>0):\n",
    "    fish_rcount+=1\n",
    "fish_rcount"
   ]
  },
  {
   "cell_type": "code",
   "execution_count": 5,
   "metadata": {},
   "outputs": [
    {
     "data": {
      "text/plain": [
       "4021"
      ]
     },
     "execution_count": 5,
     "metadata": {},
     "output_type": "execute_result"
    }
   ],
   "source": [
    "seafood_rcount=0\n",
    "for i in range(len(recipe_cat_info)):\n",
    "  if(recipe_cat_info['Meat Based'][i]==0 and recipe_cat_info['Egg Based'][i] ==0 and recipe_cat_info['Seafood Based'][i]>0 and \n",
    "     recipe_cat_info['Fish Based'][i]==0):\n",
    "    seafood_rcount+=1\n",
    "seafood_rcount"
   ]
  },
  {
   "cell_type": "markdown",
   "metadata": {},
   "source": [
    "pairwise recipe count"
   ]
  },
  {
   "cell_type": "code",
   "execution_count": 6,
   "metadata": {},
   "outputs": [
    {
     "data": {
      "text/plain": [
       "544"
      ]
     },
     "execution_count": 6,
     "metadata": {},
     "output_type": "execute_result"
    }
   ],
   "source": [
    "sea_fish_rcount=0\n",
    "for i in range(len(recipe_cat_info)):\n",
    "  if(recipe_cat_info['Meat Based'][i]==0 and recipe_cat_info['Egg Based'][i] ==0 and recipe_cat_info['Seafood Based'][i]>0 and \n",
    "     recipe_cat_info['Fish Based'][i]>0):\n",
    "    sea_fish_rcount+=1\n",
    "sea_fish_rcount"
   ]
  },
  {
   "cell_type": "code",
   "execution_count": 7,
   "metadata": {},
   "outputs": [
    {
     "data": {
      "text/plain": [
       "49296"
      ]
     },
     "execution_count": 7,
     "metadata": {},
     "output_type": "execute_result"
    }
   ],
   "source": [
    "sea_meat_rcount=0\n",
    "for i in range(len(recipe_cat_info)):\n",
    "  if(recipe_cat_info['Meat Based'][i]>0 or recipe_cat_info['Egg Based'][i]>0 and recipe_cat_info['Seafood Based'][i]>0 and \n",
    "     recipe_cat_info['Fish Based'][i]==0):\n",
    "    sea_meat_rcount+=1\n",
    "sea_meat_rcount"
   ]
  },
  {
   "cell_type": "code",
   "execution_count": 8,
   "metadata": {},
   "outputs": [
    {
     "data": {
      "text/plain": [
       "49380"
      ]
     },
     "execution_count": 8,
     "metadata": {},
     "output_type": "execute_result"
    }
   ],
   "source": [
    "fish_meat_rcount=0\n",
    "for i in range(len(recipe_cat_info)):\n",
    "  if(recipe_cat_info['Meat Based'][i]>0 or recipe_cat_info['Egg Based'][i]>0 and recipe_cat_info['Seafood Based'][i]==0 and \n",
    "     recipe_cat_info['Fish Based'][i]>0):\n",
    "    fish_meat_rcount+=1\n",
    "fish_meat_rcount"
   ]
  },
  {
   "cell_type": "markdown",
   "metadata": {},
   "source": [
    "triplets"
   ]
  },
  {
   "cell_type": "code",
   "execution_count": 9,
   "metadata": {},
   "outputs": [
    {
     "data": {
      "text/plain": [
       "162"
      ]
     },
     "execution_count": 9,
     "metadata": {},
     "output_type": "execute_result"
    }
   ],
   "source": [
    "fish_meat_sea_rcount=0\n",
    "for i in range(len(recipe_cat_info)):\n",
    "  if(recipe_cat_info['Meat Based'][i]>0 and recipe_cat_info['Egg Based'][i]==0 and recipe_cat_info['Seafood Based'][i]>0 and \n",
    "     recipe_cat_info['Fish Based'][i]>0):\n",
    "    fish_meat_sea_rcount+=1\n",
    "fish_meat_sea_rcount"
   ]
  }
 ],
 "metadata": {
  "kernelspec": {
   "display_name": "Python 3",
   "language": "python",
   "name": "python3"
  },
  "language_info": {
   "codemirror_mode": {
    "name": "ipython",
    "version": 3
   },
   "file_extension": ".py",
   "mimetype": "text/x-python",
   "name": "python",
   "nbconvert_exporter": "python",
   "pygments_lexer": "ipython3",
   "version": "3.11.2"
  },
  "orig_nbformat": 4
 },
 "nbformat": 4,
 "nbformat_minor": 2
}
